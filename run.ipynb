{
 "cells": [
  {
   "cell_type": "code",
   "execution_count": 1,
   "id": "28a5d15f",
   "metadata": {},
   "outputs": [
    {
     "name": "stdout",
     "output_type": "stream",
     "text": [
      "Image size: (370, 500)\n",
      "Train folders: ['/Users/natejly/Desktop/PetImages/train/Cat', '/Users/natejly/Desktop/PetImages/train/Dog']\n",
      "Validation folders: ['/Users/natejly/Desktop/PetImages/val/Cat', '/Users/natejly/Desktop/PetImages/val/Dog']\n",
      "Test folders: ['/Users/natejly/Desktop/PetImages/test/Cat', '/Users/natejly/Desktop/PetImages/test/Dog']\n",
      "Classes: ['Cat', 'Dog']\n",
      "Detected classes: ['Cat', 'Dog']\n",
      "Using image size: (256, 256)\n",
      "Running Stage 1 only...\n",
      "Found 1400 files belonging to 2 classes.\n",
      "Found 300 files belonging to 2 classes.\n",
      "Found 301 files belonging to 2 classes.\n",
      "Total parameters: 4,052,133\n",
      "Trainable parameters: 2,562\n",
      "\n",
      "=== STAGE 1: Training with FROZEN backbone ===\n",
      "Frozen base model layers: 238\n",
      "Trainable parameters (Stage 1): 2,562\n",
      "Training Stage 1 for 2 epochs...\n",
      "Epoch 1/2\n",
      "\u001b[1m44/44\u001b[0m \u001b[32m━━━━━━━━━━━━━━━━━━━━\u001b[0m\u001b[37m\u001b[0m \u001b[1m21s\u001b[0m 415ms/step - accuracy: 0.7954 - loss: 0.4323 - val_accuracy: 0.9933 - val_loss: 0.0661 - learning_rate: 0.0010\n",
      "Epoch 2/2\n",
      "\u001b[1m44/44\u001b[0m \u001b[32m━━━━━━━━━━━━━━━━━━━━\u001b[0m\u001b[37m\u001b[0m \u001b[1m18s\u001b[0m 402ms/step - accuracy: 0.9826 - loss: 0.0761 - val_accuracy: 0.9933 - val_loss: 0.0397 - learning_rate: 0.0010\n",
      "Restoring model weights from the end of the best epoch: 2.\n",
      "Stage 1 training completed!\n",
      "\n",
      "=== EVALUATE: Test set ===\n",
      "\u001b[1m10/10\u001b[0m \u001b[32m━━━━━━━━━━━━━━━━━━━━\u001b[0m\u001b[37m\u001b[0m \u001b[1m3s\u001b[0m 320ms/step - accuracy: 0.9901 - loss: 0.0360\n",
      "Test results: {'loss': 0.04258207604289055, 'compile_metrics': 0.9933554530143738}\n",
      "Single-stage training results logged.\n",
      "Training log saved to training_log_EfficientNetB0_single_20250828_122959.json\n"
     ]
    }
   ],
   "source": [
    "from ImgClassTrain import ImgClassTrainer\n",
    "\n",
    "trainer_single = ImgClassTrainer(\n",
    "    dataset_path=\"/Users/natejly/Desktop/PetImages\",\n",
    "    base_model_name=\"EfficientNetB0\",\n",
    "    batch_size=32,\n",
    "    initial_learning_rate=1e-3,\n",
    "    initial_epochs=2,\n",
    "    dual_stage=False  # Single-stage only\n",
    ")\n",
    "\n",
    "trainer_single.run()\n",
    "\n"
   ]
  },
  {
   "cell_type": "code",
   "execution_count": 2,
   "id": "82e5ba5a",
   "metadata": {},
   "outputs": [
    {
     "name": "stdout",
     "output_type": "stream",
     "text": [
      "{\n",
      "    \"iteration_1\": {\n",
      "        \"params\": {\n",
      "            \"base_model_name\": \"EfficientNetB0\",\n",
      "            \"batch_size\": 32,\n",
      "            \"initial_learning_rate\": 0.001,\n",
      "            \"initial_epochs\": 2,\n",
      "            \"dual_stage\": false\n",
      "        },\n",
      "        \"logs\": {\n",
      "            \"accuracy\": [\n",
      "                0.9114285707473755,\n",
      "                0.9864285588264465\n",
      "            ],\n",
      "            \"loss\": [\n",
      "                0.25117823481559753,\n",
      "                0.0641234740614891\n",
      "            ],\n",
      "            \"val_accuracy\": [\n",
      "                0.9933333396911621,\n",
      "                0.9933333396911621\n",
      "            ],\n",
      "            \"val_loss\": [\n",
      "                0.06608302146196365,\n",
      "                0.03970078006386757\n",
      "            ],\n",
      "            \"learning_rate\": [\n",
      "                0.0010000000474974513,\n",
      "                0.0010000000474974513\n",
      "            ]\n",
      "        },\n",
      "        \"test\": {\n",
      "            \"loss\": 0.04258207604289055,\n",
      "            \"compile_metrics\": 0.9933554530143738\n",
      "        },\n",
      "        \"timestamp\": \"2025-08-28T12:29:59.538958\",\n",
      "        \"training_type\": \"single_stage\"\n",
      "    }\n",
      "}\n"
     ]
    }
   ],
   "source": [
    "trainer_single.training_log.show()"
   ]
  }
 ],
 "metadata": {
  "kernelspec": {
   "display_name": "Python 3",
   "language": "python",
   "name": "python3"
  },
  "language_info": {
   "codemirror_mode": {
    "name": "ipython",
    "version": 3
   },
   "file_extension": ".py",
   "mimetype": "text/x-python",
   "name": "python",
   "nbconvert_exporter": "python",
   "pygments_lexer": "ipython3",
   "version": "3.12.4"
  }
 },
 "nbformat": 4,
 "nbformat_minor": 5
}
